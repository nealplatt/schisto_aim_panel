{
 "cells": [
  {
   "cell_type": "markdown",
   "id": "cc8df5f1-a8b7-4470-a5ee-fc73f75871e2",
   "metadata": {},
   "source": [
    "# Unused"
   ]
  },
  {
   "cell_type": "markdown",
   "id": "1c45fe64-0761-4cb0-9ee8-893b223dc5ab",
   "metadata": {},
   "source": [
    "# InfoCalc"
   ]
  },
  {
   "cell_type": "code",
   "execution_count": 140,
   "id": "03017a56-d0c3-4de6-98c9-f81bfed52aa5",
   "metadata": {},
   "outputs": [],
   "source": [
    "Path(f\"{results_dir}/infocalc\").mkdir(parents=True, exist_ok=True)\n",
    "os.chdir(f\"{results_dir}/infocalc\")"
   ]
  },
  {
   "cell_type": "code",
   "execution_count": null,
   "id": "6d427761-3b1e-4e2b-8f40-939ba64f3ce5",
   "metadata": {},
   "outputs": [],
   "source": [
    "%%bash \n",
    "\n",
    "cd /master/nplatt/schisto_aim_panel/bin\n",
    "https://rosenberglab.stanford.edu/software/infocalc.tar\n",
    "tar -xvf infocalc.tar"
   ]
  },
  {
   "cell_type": "code",
   "execution_count": 107,
   "id": "01a17a82-4361-46fc-be7c-a3083b44b289",
   "metadata": {},
   "outputs": [
    {
     "name": "stderr",
     "output_type": "stream",
     "text": [
      "\n",
      "VCFtools - 0.1.16\n",
      "(C) Adam Auton and Anthony Marcketta 2009\n",
      "\n",
      "Parameters as interpreted:\n",
      "rep_vcf/scan_autosomes_maf05_ld.vcf\n",
      "\t--recode-INFO-all\n",
      "\t--recode\n",
      "\t--stdout\n",
      "ei_zambia_ERR310940rebowi\n",
      "\n",
      "Warning: Expected at least 2 parts in FORMAT entry: ID=PGT,Number=1,Type=String,Description=\"Physical phasing haplotype information, describing how the alternate alleles are phased in relation to one another; will always be heterozygous and is not intended to describe called alleles\">\n",
      "ted at least 2 parts in FORMAT entry: ID=PID,Number=1,Type=String,Description=\"Physical phasing ID information, where each unique ID within a given sample (but not across samples) connects records within a phasing group\">\n",
      "r,Description=\"Normalized, Phred-scaled likelihoods for genotypes as defined in the VCF specification\">\n",
      "conditional reference genotype confidence, encoded as a phred quality -10*log10 p(genotype call is wrong)\">\n",
      "llele count in genotypes, for each ALT allele, in the same order as listed\">r,Description=\"A\n",
      "ast 2 parts in INFO entry: ID=AC,Number=A,Type=Integer,Description=\"Allele count in genotypes, for each ALT allele, in the same order as listed\">\n",
      "F,Number=A,Type=Float,Description=\"Allele Frequency, for each ALT allele, in the same order as listed\">\n",
      "Frequency, for each ALT allele, in the same order as listed\">r=A,Type=Float,Description=\"Allele \n",
      "INFO entry: ID=MLEAC,Number=A,Type=Integer,Description=\"Maximum likelihood expectation (MLE) for the allele counts (not necessarily the same as the AC), for each ALT allele, in the same order as listed\">\n",
      "ximum likelihood expectation (MLE) for the allele counts (not necessarily the same as the AC), for each ALT allele, in the same order as listed\">\n",
      "LEAF,Number=A,Type=Float,Description=\"Maximum likelihood expectation (MLE) for the allele frequency (not necessarily the same as the AF), for each ALT allele, in the same order as listed\">\n",
      "pected at least 2 parts in INFO entry: ID=MLEAF,Number=A,Type=Float,Description=\"Maximum likelihood expectation (MLE) for the allele frequency (not necessarily the same as the AF), for each ALT allele, in the same order as listed\">\n",
      "Excluding individuals in 'exclude' list\n",
      "t of 163 Individualst 162 ou\n",
      "Outputting VCF file...\n",
      "After filtering, kept 381501 out of a possible 381501 Sites\n",
      "Run Time = 163.00 seconds\n"
     ]
    }
   ],
   "source": [
    "%%bash\n",
    "\n",
    "conda run -n popgen --live-stream bash -c \"\n",
    "    vcftools \\\n",
    "        --vcf ../prep_vcf/scan_autosomes_maf05_ld.vcf \\\n",
    "        --remove-indv margrebowiei_zambia_ERR310940 \\\n",
    "        --recode \\\n",
    "        --recode-INFO-all \\\n",
    "        --stdout | bgzip > to_infocalc.vcf.gz\""
   ]
  },
  {
   "cell_type": "code",
   "execution_count": 125,
   "id": "6826b2d1-8f1a-45e7-81d0-74530f5e0b84",
   "metadata": {},
   "outputs": [],
   "source": [
    "!conda run -n popgen bcftools query -l to_infocalc.vcf.gz >samples.list\n",
    "\n",
    "samples_df = pd.read_csv(\"samples.list\", sep=\"\\t\", header=None, names=[\"Library ID\"])\n",
    "\n",
    "map_df = samples_df.merge(info_df[[\"Library ID\", \"Predicted Species\"]], on=\"Library ID\", how=\"left\")\n",
    "\n",
    "# Replace spaces with underscores in Predicted Species\n",
    "map_df[\"Predicted Species\"] = map_df[\"Predicted Species\"].str.replace(\". \", \"_\", regex=False)\n",
    "\n",
    "# Save to output file\n",
    "map_df.to_csv(\"sample.map\", sep=\" \", index=False, header=False)"
   ]
  },
  {
   "cell_type": "code",
   "execution_count": null,
   "id": "9eb4cbbd-18df-4893-9dbe-7403e60e35ee",
   "metadata": {},
   "outputs": [],
   "source": [
    "./VCF_to_Infocalc.py to_infocalc.vcf.gz sample.map >infocalc.input.tsv"
   ]
  },
  {
   "cell_type": "code",
   "execution_count": null,
   "id": "fa41909d-60a3-4e30-a7bf-f1052bc4a6a6",
   "metadata": {},
   "outputs": [],
   "source": [
    "../../bin/infocalc -i infocalc.input.tsv -o infocalc.tsv"
   ]
  },
  {
   "cell_type": "code",
   "execution_count": 154,
   "id": "2ea0f13d-2ac0-4df5-b007-0814a00459e5",
   "metadata": {},
   "outputs": [
    {
     "data": {
      "text/html": [
       "<div>\n",
       "<style scoped>\n",
       "    .dataframe tbody tr th:only-of-type {\n",
       "        vertical-align: middle;\n",
       "    }\n",
       "\n",
       "    .dataframe tbody tr th {\n",
       "        vertical-align: top;\n",
       "    }\n",
       "\n",
       "    .dataframe thead th {\n",
       "        text-align: right;\n",
       "    }\n",
       "</style>\n",
       "<table border=\"1\" class=\"dataframe\">\n",
       "  <thead>\n",
       "    <tr style=\"text-align: right;\">\n",
       "      <th></th>\n",
       "      <th>Locus</th>\n",
       "      <th>I_n</th>\n",
       "      <th>I_a</th>\n",
       "      <th>ORCA[1-allele]</th>\n",
       "      <th>ORCA[2-allele]</th>\n",
       "    </tr>\n",
       "  </thead>\n",
       "  <tbody>\n",
       "    <tr>\n",
       "      <th>0</th>\n",
       "      <td>NC_067196.1:10000002</td>\n",
       "      <td>0.566896</td>\n",
       "      <td>0.164760</td>\n",
       "      <td>0.966102</td>\n",
       "      <td>0.997702</td>\n",
       "    </tr>\n",
       "    <tr>\n",
       "      <th>1</th>\n",
       "      <td>NC_067196.1:10000163</td>\n",
       "      <td>0.220649</td>\n",
       "      <td>0.063786</td>\n",
       "      <td>0.754425</td>\n",
       "      <td>0.879386</td>\n",
       "    </tr>\n",
       "    <tr>\n",
       "      <th>2</th>\n",
       "      <td>NC_067196.1:10000702</td>\n",
       "      <td>0.218000</td>\n",
       "      <td>0.063000</td>\n",
       "      <td>0.752033</td>\n",
       "      <td>0.877024</td>\n",
       "    </tr>\n",
       "    <tr>\n",
       "      <th>3</th>\n",
       "      <td>NC_067196.1:10001140</td>\n",
       "      <td>0.056993</td>\n",
       "      <td>0.016059</td>\n",
       "      <td>0.577519</td>\n",
       "      <td>0.643020</td>\n",
       "    </tr>\n",
       "    <tr>\n",
       "      <th>4</th>\n",
       "      <td>NC_067196.1:10001242</td>\n",
       "      <td>0.215762</td>\n",
       "      <td>0.062335</td>\n",
       "      <td>0.750000</td>\n",
       "      <td>0.875000</td>\n",
       "    </tr>\n",
       "    <tr>\n",
       "      <th>...</th>\n",
       "      <td>...</td>\n",
       "      <td>...</td>\n",
       "      <td>...</td>\n",
       "      <td>...</td>\n",
       "      <td>...</td>\n",
       "    </tr>\n",
       "    <tr>\n",
       "      <th>381496</th>\n",
       "      <td>NC_067202.1:9987708</td>\n",
       "      <td>0.648199</td>\n",
       "      <td>0.184793</td>\n",
       "      <td>0.991071</td>\n",
       "      <td>0.999841</td>\n",
       "    </tr>\n",
       "    <tr>\n",
       "      <th>381497</th>\n",
       "      <td>NC_067202.1:9989293</td>\n",
       "      <td>0.157976</td>\n",
       "      <td>0.045278</td>\n",
       "      <td>0.693925</td>\n",
       "      <td>0.812636</td>\n",
       "    </tr>\n",
       "    <tr>\n",
       "      <th>381498</th>\n",
       "      <td>NC_067202.1:998984</td>\n",
       "      <td>0.453419</td>\n",
       "      <td>0.138951</td>\n",
       "      <td>0.934746</td>\n",
       "      <td>0.948009</td>\n",
       "    </tr>\n",
       "    <tr>\n",
       "      <th>381499</th>\n",
       "      <td>NC_067202.1:9992190</td>\n",
       "      <td>0.274358</td>\n",
       "      <td>0.079789</td>\n",
       "      <td>0.800000</td>\n",
       "      <td>0.920000</td>\n",
       "    </tr>\n",
       "    <tr>\n",
       "      <th>381500</th>\n",
       "      <td>NC_067202.1:999593</td>\n",
       "      <td>0.098527</td>\n",
       "      <td>0.027970</td>\n",
       "      <td>0.628440</td>\n",
       "      <td>0.723887</td>\n",
       "    </tr>\n",
       "  </tbody>\n",
       "</table>\n",
       "<p>381501 rows × 5 columns</p>\n",
       "</div>"
      ],
      "text/plain": [
       "                       Locus       I_n       I_a  ORCA[1-allele]  \\\n",
       "0       NC_067196.1:10000002  0.566896  0.164760        0.966102   \n",
       "1       NC_067196.1:10000163  0.220649  0.063786        0.754425   \n",
       "2       NC_067196.1:10000702  0.218000  0.063000        0.752033   \n",
       "3       NC_067196.1:10001140  0.056993  0.016059        0.577519   \n",
       "4       NC_067196.1:10001242  0.215762  0.062335        0.750000   \n",
       "...                      ...       ...       ...             ...   \n",
       "381496   NC_067202.1:9987708  0.648199  0.184793        0.991071   \n",
       "381497   NC_067202.1:9989293  0.157976  0.045278        0.693925   \n",
       "381498    NC_067202.1:998984  0.453419  0.138951        0.934746   \n",
       "381499   NC_067202.1:9992190  0.274358  0.079789        0.800000   \n",
       "381500    NC_067202.1:999593  0.098527  0.027970        0.628440   \n",
       "\n",
       "        ORCA[2-allele]  \n",
       "0             0.997702  \n",
       "1             0.879386  \n",
       "2             0.877024  \n",
       "3             0.643020  \n",
       "4             0.875000  \n",
       "...                ...  \n",
       "381496        0.999841  \n",
       "381497        0.812636  \n",
       "381498        0.948009  \n",
       "381499        0.920000  \n",
       "381500        0.723887  \n",
       "\n",
       "[381501 rows x 5 columns]"
      ]
     },
     "execution_count": 154,
     "metadata": {},
     "output_type": "execute_result"
    }
   ],
   "source": [
    "in_df=pd.read_csv(\"infocalc.tsv\", sep=\"\\t\", header=0, skipfooter=2, engine=\"python\")\n",
    "in_df.columns = i_df.columns.str.replace(\" \", \"\", regex=False)\n",
    "in_df.to_csv(\"In_df.csv\", sep=\",\", header=True, index=False)\n",
    "in_df"
   ]
  },
  {
   "cell_type": "code",
   "execution_count": 153,
   "id": "bca4c74e-ac83-45e6-af26-810ada45e680",
   "metadata": {},
   "outputs": [],
   "source": [
    "in_df.nlargest(10000, \"I_n\").to_csv(\"top_In_df.csv\", sep=\",\", header=True, index=False)"
   ]
  },
  {
   "cell_type": "markdown",
   "id": "7054accb-7aca-4c0f-a575-b671064011ff",
   "metadata": {},
   "source": [
    "# Reduce the number of samples to a development and test data sets"
   ]
  },
  {
   "cell_type": "code",
   "execution_count": null,
   "id": "acce014e-f0f9-4a3d-969a-309874ed85d5",
   "metadata": {},
   "outputs": [],
   "source": [
    "# info_df.loc[ info_df[\"Final SNV Dataset\"] == True][\"Population Assignment\"].value_counts()"
   ]
  },
  {
   "cell_type": "markdown",
   "id": "117ff8d5-4aff-40be-b99b-c29507c5f169",
   "metadata": {},
   "source": [
    "\n",
    "\n",
    "I want to randomly select 50 northern samples, 50 southern samples and 15 S. bovis for the \"panel\" and then save the remaining to be in the test\n",
    "\n"
   ]
  },
  {
   "cell_type": "code",
   "execution_count": null,
   "id": "ca4e47e6-7b81-459a-ab30-198959ce8a77",
   "metadata": {},
   "outputs": [],
   "source": [
    "# # Define the sample sizes for each population\n",
    "# sample_sizes = {\"S. haematobium (northern)\": 50, \n",
    "#                 \"S. haematobium (southern)\": 50, \n",
    "#                 \"S. bovis\": 15}\n",
    "\n",
    "# # Sample the specified number of individuals from each population\n",
    "# panel_df = pd.concat(\n",
    "#     [info_df[info_df[\"Population Assignment\"] == pop].sample(n=size, random_state=42)\n",
    "#      for pop, size in sample_sizes.items() if pop in info_df[\"Population Assignment\"].values]\n",
    "# )\n",
    "\n",
    "# panel_df.reset_index(drop=True, inplace=True)\n",
    "# panel_df[\"Library ID\"].to_csv(\"panel.samples.list\", sep=\",\", header=False, index=False)\n",
    "# panel_df.to_csv(\"panel.df.csv\", sep=\",\", header=True, index=False)\n",
    "# panel_df"
   ]
  },
  {
   "cell_type": "code",
   "execution_count": null,
   "id": "9a5a8bd3-c340-4836-99eb-82824ddb190f",
   "metadata": {},
   "outputs": [],
   "source": [
    "# %%bash\n",
    "\n",
    "# conda run -n popgen --live-stream vcftools --vcf scan_snvs.ld.vcf --not-chr NC_067195.1 --keep panel.samples.list --recode --recode-INFO-all --stdout >panel.vcf"
   ]
  },
  {
   "cell_type": "code",
   "execution_count": null,
   "id": "20878d48-6a34-41d4-b42b-5062dd04fb80",
   "metadata": {},
   "outputs": [],
   "source": [
    "# %%bash\n",
    "\n",
    "# conda run -n popgen --live-stream vcftools --vcf scan_snvs.ld.vcf --not-chr NC_067195.1 --remove panel.samples.list --recode --recode-INFO-all --stdout >test.vcf"
   ]
  }
 ],
 "metadata": {
  "kernelspec": {
   "display_name": "",
   "name": ""
  },
  "language_info": {
   "name": ""
  }
 },
 "nbformat": 4,
 "nbformat_minor": 5
}
