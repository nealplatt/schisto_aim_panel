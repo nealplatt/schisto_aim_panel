{
 "cells": [
  {
   "cell_type": "code",
   "execution_count": 1,
   "id": "0b508fef-1aef-429d-9dc9-a238bbf78f41",
   "metadata": {
    "tags": []
   },
   "outputs": [],
   "source": [
    "import os\n",
    "import pandas as pd\n",
    "from pathlib import Path\n",
    "import numpy as np"
   ]
  },
  {
   "cell_type": "code",
   "execution_count": 2,
   "id": "206b3cdb-6c92-4d6a-9eb9-79779ff6b155",
   "metadata": {
    "tags": []
   },
   "outputs": [],
   "source": [
    "# from Bio import SeqIO\n",
    "# from Bio.Seq import Seq  # Import the Seq class\n",
    "# from Bio.SeqRecord import SeqRecord  # Import the SeqRecord class for creating sequence records\n",
    "# from collections import defaultdict"
   ]
  },
  {
   "cell_type": "code",
   "execution_count": 3,
   "id": "93834c2e-0795-40ad-8a2a-348b4b6cfa18",
   "metadata": {},
   "outputs": [],
   "source": [
    "proj_dir=\"/master/nplatt/schisto_aim_panel\"\n",
    "results_dir=f\"{proj_dir}/results\""
   ]
  },
  {
   "cell_type": "code",
   "execution_count": 4,
   "id": "2b1f4c80-0f39-4d7b-b19b-bccf5dd84abc",
   "metadata": {},
   "outputs": [
    {
     "data": {
      "text/html": [
       "<div>\n",
       "<style scoped>\n",
       "    .dataframe tbody tr th:only-of-type {\n",
       "        vertical-align: middle;\n",
       "    }\n",
       "\n",
       "    .dataframe tbody tr th {\n",
       "        vertical-align: top;\n",
       "    }\n",
       "\n",
       "    .dataframe thead th {\n",
       "        text-align: right;\n",
       "    }\n",
       "</style>\n",
       "<table border=\"1\" class=\"dataframe\">\n",
       "  <thead>\n",
       "    <tr style=\"text-align: right;\">\n",
       "      <th></th>\n",
       "      <th>Library ID</th>\n",
       "      <th>Museum Accession Number (NHM) or Donor ID</th>\n",
       "      <th>Predicted Species</th>\n",
       "      <th>Mitchondrial Haplotype</th>\n",
       "      <th>Population Assignment</th>\n",
       "      <th>NCBI SRA Accession</th>\n",
       "      <th>Project Citation</th>\n",
       "      <th>Country</th>\n",
       "      <th>Locality</th>\n",
       "      <th>Latitude</th>\n",
       "      <th>...</th>\n",
       "      <th>Original life-cycle stage collected</th>\n",
       "      <th>Life-cycle stage sequenced</th>\n",
       "      <th>Num Read Pairs (1e6)</th>\n",
       "      <th>Coverage</th>\n",
       "      <th>Final SNV Dataset</th>\n",
       "      <th>Discordant COX1/ITS</th>\n",
       "      <th>% S. haematobium ancestry (q)</th>\n",
       "      <th>Origin</th>\n",
       "      <th>Project (Collector)</th>\n",
       "      <th>Comments</th>\n",
       "    </tr>\n",
       "  </thead>\n",
       "  <tbody>\n",
       "    <tr>\n",
       "      <th>0</th>\n",
       "      <td>angola_cota_57</td>\n",
       "      <td>MCF03050E0612</td>\n",
       "      <td>S. haematobium</td>\n",
       "      <td>S. haematobium</td>\n",
       "      <td>S. haematobium (southern)</td>\n",
       "      <td>SRR11907442</td>\n",
       "      <td>Herein</td>\n",
       "      <td>Angola</td>\n",
       "      <td>Source of the Cota river</td>\n",
       "      <td>-9.26186</td>\n",
       "      <td>...</td>\n",
       "      <td>cercariae</td>\n",
       "      <td>cercariae</td>\n",
       "      <td>76.6</td>\n",
       "      <td>32.96</td>\n",
       "      <td>True</td>\n",
       "      <td>NaN</td>\n",
       "      <td>100.00%</td>\n",
       "      <td>SCAN</td>\n",
       "      <td>Angola malacology survey 2013- NNTDCP/CIS and ...</td>\n",
       "      <td>NaN</td>\n",
       "    </tr>\n",
       "    <tr>\n",
       "      <th>1</th>\n",
       "      <td>angola_cota_58</td>\n",
       "      <td>MCF03050E0613</td>\n",
       "      <td>S. haematobium</td>\n",
       "      <td>S. haematobium</td>\n",
       "      <td>S. haematobium (southern)</td>\n",
       "      <td>SRR11907441</td>\n",
       "      <td>Herein</td>\n",
       "      <td>Angola</td>\n",
       "      <td>Source of the Cota river</td>\n",
       "      <td>-9.26186</td>\n",
       "      <td>...</td>\n",
       "      <td>cercariae</td>\n",
       "      <td>cercariae</td>\n",
       "      <td>71.6</td>\n",
       "      <td>32.83</td>\n",
       "      <td>True</td>\n",
       "      <td>NaN</td>\n",
       "      <td>100.00%</td>\n",
       "      <td>SCAN</td>\n",
       "      <td>Angola malacology survey 2013- NNTDCP/CIS and ...</td>\n",
       "      <td>NaN</td>\n",
       "    </tr>\n",
       "    <tr>\n",
       "      <th>2</th>\n",
       "      <td>angola_cota_59</td>\n",
       "      <td>MCF03050E0614</td>\n",
       "      <td>S. haematobium</td>\n",
       "      <td>S. haematobium</td>\n",
       "      <td>S. haematobium (southern)</td>\n",
       "      <td>SRR11907440</td>\n",
       "      <td>Herein</td>\n",
       "      <td>Angola</td>\n",
       "      <td>Source of the Cota river</td>\n",
       "      <td>-9.26186</td>\n",
       "      <td>...</td>\n",
       "      <td>cercariae</td>\n",
       "      <td>cercariae</td>\n",
       "      <td>66.5</td>\n",
       "      <td>25.61</td>\n",
       "      <td>True</td>\n",
       "      <td>NaN</td>\n",
       "      <td>100.00%</td>\n",
       "      <td>SCAN</td>\n",
       "      <td>Angola malacology survey 2013- NNTDCP/CIS and ...</td>\n",
       "      <td>NaN</td>\n",
       "    </tr>\n",
       "    <tr>\n",
       "      <th>3</th>\n",
       "      <td>angola_icau_60</td>\n",
       "      <td>MCF03050E0615</td>\n",
       "      <td>S. haematobium</td>\n",
       "      <td>S. haematobium</td>\n",
       "      <td>S. haematobium (southern)</td>\n",
       "      <td>SRR11907439</td>\n",
       "      <td>Herein</td>\n",
       "      <td>Angola</td>\n",
       "      <td>Icau Wando village</td>\n",
       "      <td>-8.6451</td>\n",
       "      <td>...</td>\n",
       "      <td>miracidia</td>\n",
       "      <td>miracidia</td>\n",
       "      <td>56.7</td>\n",
       "      <td>25.73</td>\n",
       "      <td>True</td>\n",
       "      <td>NaN</td>\n",
       "      <td>100.00%</td>\n",
       "      <td>SCAN</td>\n",
       "      <td>Angola malacology survey 2013- NNTDCP/CIS and ...</td>\n",
       "      <td>NaN</td>\n",
       "    </tr>\n",
       "    <tr>\n",
       "      <th>4</th>\n",
       "      <td>angola_icau_61</td>\n",
       "      <td>MCF03050E0615</td>\n",
       "      <td>S. haematobium</td>\n",
       "      <td>S. haematobium</td>\n",
       "      <td>S. haematobium (southern)</td>\n",
       "      <td>SRR11907438</td>\n",
       "      <td>Herein</td>\n",
       "      <td>Angola</td>\n",
       "      <td>Icau Wando village</td>\n",
       "      <td>-8.6451</td>\n",
       "      <td>...</td>\n",
       "      <td>miracidia</td>\n",
       "      <td>miracidia</td>\n",
       "      <td>75.3</td>\n",
       "      <td>30.40</td>\n",
       "      <td>True</td>\n",
       "      <td>NaN</td>\n",
       "      <td>100.00%</td>\n",
       "      <td>SCAN</td>\n",
       "      <td>Angola malacology survey 2013- NNTDCP/CIS and ...</td>\n",
       "      <td>NaN</td>\n",
       "    </tr>\n",
       "  </tbody>\n",
       "</table>\n",
       "<p>5 rows × 23 columns</p>\n",
       "</div>"
      ],
      "text/plain": [
       "       Library ID Museum Accession Number (NHM) or Donor ID Predicted Species  \\\n",
       "0  angola_cota_57                             MCF03050E0612    S. haematobium   \n",
       "1  angola_cota_58                             MCF03050E0613    S. haematobium   \n",
       "2  angola_cota_59                             MCF03050E0614    S. haematobium   \n",
       "3  angola_icau_60                             MCF03050E0615    S. haematobium   \n",
       "4  angola_icau_61                             MCF03050E0615    S. haematobium   \n",
       "\n",
       "  Mitchondrial Haplotype      Population Assignment NCBI SRA Accession  \\\n",
       "0         S. haematobium  S. haematobium (southern)        SRR11907442   \n",
       "1         S. haematobium  S. haematobium (southern)        SRR11907441   \n",
       "2         S. haematobium  S. haematobium (southern)        SRR11907440   \n",
       "3         S. haematobium  S. haematobium (southern)        SRR11907439   \n",
       "4         S. haematobium  S. haematobium (southern)        SRR11907438   \n",
       "\n",
       "  Project Citation Country                   Locality  Latitude  ...  \\\n",
       "0           Herein  Angola  Source of the Cota river   -9.26186  ...   \n",
       "1           Herein  Angola  Source of the Cota river   -9.26186  ...   \n",
       "2           Herein  Angola  Source of the Cota river   -9.26186  ...   \n",
       "3           Herein  Angola         Icau Wando village   -8.6451  ...   \n",
       "4           Herein  Angola         Icau Wando village   -8.6451  ...   \n",
       "\n",
       "  Original life-cycle stage collected Life-cycle stage sequenced   \\\n",
       "0                           cercariae                   cercariae   \n",
       "1                           cercariae                   cercariae   \n",
       "2                           cercariae                   cercariae   \n",
       "3                           miracidia                  miracidia    \n",
       "4                           miracidia                  miracidia    \n",
       "\n",
       "  Num Read Pairs (1e6) Coverage Final SNV Dataset  Discordant COX1/ITS  \\\n",
       "0                 76.6    32.96              True                  NaN   \n",
       "1                 71.6    32.83              True                  NaN   \n",
       "2                 66.5    25.61              True                  NaN   \n",
       "3                 56.7    25.73              True                  NaN   \n",
       "4                 75.3    30.40              True                  NaN   \n",
       "\n",
       "   % S. haematobium ancestry (q)  Origin  \\\n",
       "0                        100.00%    SCAN   \n",
       "1                        100.00%    SCAN   \n",
       "2                        100.00%    SCAN   \n",
       "3                        100.00%    SCAN   \n",
       "4                        100.00%    SCAN   \n",
       "\n",
       "                                 Project (Collector) Comments  \n",
       "0  Angola malacology survey 2013- NNTDCP/CIS and ...      NaN  \n",
       "1  Angola malacology survey 2013- NNTDCP/CIS and ...      NaN  \n",
       "2  Angola malacology survey 2013- NNTDCP/CIS and ...      NaN  \n",
       "3  Angola malacology survey 2013- NNTDCP/CIS and ...      NaN  \n",
       "4  Angola malacology survey 2013- NNTDCP/CIS and ...      NaN  \n",
       "\n",
       "[5 rows x 23 columns]"
      ]
     },
     "execution_count": 4,
     "metadata": {},
     "output_type": "execute_result"
    }
   ],
   "source": [
    "info_df=pd.read_csv(f\"{proj_dir}/data/platt_et_al_2025_stable1.csv\", sep=\",\", header=0)\n",
    "info_df.head()"
   ]
  },
  {
   "cell_type": "markdown",
   "id": "af416e24-eb5f-413e-8c07-a8f9b4e241ff",
   "metadata": {},
   "source": [
    "# Get raw VCF data"
   ]
  },
  {
   "cell_type": "code",
   "execution_count": 5,
   "id": "864f2ceb-4790-4971-85cd-0ff3bd48f349",
   "metadata": {},
   "outputs": [],
   "source": [
    "os.chdir(f\"{proj_dir}/data\")"
   ]
  },
  {
   "cell_type": "code",
   "execution_count": null,
   "id": "10c55b41-ccba-4edb-a5ca-09ef037bc471",
   "metadata": {},
   "outputs": [],
   "source": [
    "!cp ~/sch_hae_scan/results/filter_genotypes/sorted_annotated_snps.vcf scan_snvs.vcf"
   ]
  },
  {
   "cell_type": "markdown",
   "id": "69eceb82-97db-423d-a160-86ce3ddefee5",
   "metadata": {},
   "source": [
    "# LD Filter the VCF file"
   ]
  },
  {
   "cell_type": "code",
   "execution_count": 8,
   "id": "ea16128c-5559-4fb5-bbb0-a5fd90f2f1a5",
   "metadata": {},
   "outputs": [],
   "source": [
    "Path(f\"{results_dir}/split_data_vcf\").mkdir(parents=True, exist_ok=True)\n",
    "os.chdir(f\"{results_dir}/split_data_vcf\")"
   ]
  },
  {
   "cell_type": "code",
   "execution_count": null,
   "id": "f4c18c1c-6c90-4213-84b7-46eaf7f0d81f",
   "metadata": {},
   "outputs": [
    {
     "name": "stdout",
     "output_type": "stream",
     "text": [
      "PLINK v2.00a5.12LM 64-bit Intel (25 Jun 2024)  www.cog-genomics.org/plink/2.0/\n",
      "urcell, Christopher Chang   GNU General Public License v3\n",
      "Logging to ld.log.\n",
      "Options in effect:\n",
      "allow-extra-chr\n",
      "  --double-id\n",
      "  --indep-pairwise 25 5 0.20\n",
      "  --out ld\n",
      "cf--vcf ../../data/scan_snvs.v\n",
      "\n",
      "Start time: Wed Mar  5 15:13:09 2025\n",
      "643 MiB for maindetected, ~1016614 available; reserving 515\n",
      "workspace.\n",
      "Using up to 192 threads (change this with --threads).\n",
      "--vcf: 3456k variants scanned."
     ]
    }
   ],
   "source": [
    "%%bash\n",
    "\n",
    "conda run -n popgen --live-stream \\\n",
    "    plink2 \\\n",
    "        --vcf ../../data/scan_snvs.vcf \\\n",
    "        --allow-extra-chr \\\n",
    "        --double-id \\\n",
    "        --indep-pairwise 25 5 0.20 \\\n",
    "        --out ld"
   ]
  },
  {
   "cell_type": "code",
   "execution_count": null,
   "id": "20bf7b86-27b7-4f5b-879a-b38caa4b2ec7",
   "metadata": {},
   "outputs": [],
   "source": [
    "%%bash\n",
    "\n",
    "conda run -n vcftools --live-stream \\\n",
    "    vcftools \\\n",
    "        --vcf ../../data/scan_snvs.vcf \\\n",
    "        --exclude ld.prune.out \\\n",
    "        --recode \\\n",
    "        --recode-INFO-all \\\n",
    "        --stdout \\\n",
    "        >scan_snvs.ld.vcf"
   ]
  },
  {
   "cell_type": "markdown",
   "id": "100fe12c-a340-47d5-9187-106f3ead3240",
   "metadata": {},
   "source": [
    "# Reduce the number of samples to a development and test data sets"
   ]
  },
  {
   "cell_type": "code",
   "execution_count": null,
   "id": "bda5bc13-edc7-46ff-9ec4-23c34ca80338",
   "metadata": {},
   "outputs": [],
   "source": [
    "info_df.loc[ info_df[\"Final SNV Dataset\"] == True][\"Population Assignment\"].value_counts()"
   ]
  },
  {
   "cell_type": "markdown",
   "id": "427c97ea-b356-4617-9038-3b7158497414",
   "metadata": {},
   "source": [
    "\n",
    "\n",
    "I want to randomly select 50 northern samples, 50 southern samples and 15 S. bovis for the \"panel\" and then save the remaining to be in the test\n",
    "\n"
   ]
  },
  {
   "cell_type": "code",
   "execution_count": null,
   "id": "8a060b07-fc7d-4ffb-b823-541343a5578b",
   "metadata": {},
   "outputs": [],
   "source": [
    "# Define the sample sizes for each population\n",
    "sample_sizes = {\"S. haematobium (northern)\": 50, \n",
    "                \"S. haematobium (southern)\": 50, \n",
    "                \"S. bovis\": 15}\n",
    "\n",
    "# Sample the specified number of individuals from each population\n",
    "panel_df = pd.concat(\n",
    "    [info_df[info_df[\"Population Assignment\"] == pop].sample(n=size, random_state=42)\n",
    "     for pop, size in sample_sizes.items() if pop in info_df[\"Population Assignment\"].values]\n",
    ")\n",
    "\n",
    "panel_df.reset_index(drop=True, inplace=True)\n",
    "panel_df[\"Library ID\"].to_csv(\"panel.samples.list\", sep=\",\", header=False, index=False)\n",
    "panel_df.to_csv(\"panel.df.csv\", sep=\",\", header=True, index=False)\n",
    "panel_df"
   ]
  },
  {
   "cell_type": "markdown",
   "id": "75368232-6ce7-4f18-b04e-7f9a6ead105e",
   "metadata": {},
   "source": [
    "# sample these individuals from the VCF file"
   ]
  },
  {
   "cell_type": "code",
   "execution_count": null,
   "id": "a6760978-cd80-4154-9891-c92b2a241417",
   "metadata": {},
   "outputs": [],
   "source": [
    "%%bash\n",
    "\n",
    "conda run -n popgen --live-stream vcftools --vcf scan_snvs.ld.vcf --not-chr NC_067195.1 --keep panel.samples.list --recode --recode-INFO-all --stdout >panel.vcf"
   ]
  },
  {
   "cell_type": "code",
   "execution_count": null,
   "id": "7d0b2983-e450-48a5-9b88-66b323d1c888",
   "metadata": {},
   "outputs": [],
   "source": [
    "%%bash\n",
    "\n",
    "conda run -n popgen --live-stream vcftools --vcf scan_snvs.ld.vcf --not-chr NC_067195.1 --remove panel.samples.list --recode --recode-INFO-all --stdout >test.vcf"
   ]
  },
  {
   "cell_type": "markdown",
   "id": "8e7fa860-2034-4553-b8e1-10156d3c892a",
   "metadata": {},
   "source": [
    "# Fst"
   ]
  },
  {
   "cell_type": "code",
   "execution_count": null,
   "id": "21957db3-a1e4-45fa-aa6d-62f4607a3824",
   "metadata": {},
   "outputs": [],
   "source": [
    "Path(f\"{results_dir}/fst\").mkdir(parents=True, exist_ok=True)\n",
    "os.chdir(f\"{results_dir}/fst\")"
   ]
  },
  {
   "cell_type": "code",
   "execution_count": null,
   "id": "4c2d130c-68c3-499e-b5d3-126a8aaeb3f1",
   "metadata": {},
   "outputs": [],
   "source": [
    "panel_df=pd.read_csv(f\"{results_dir}/split_data_vcf/panel.df.csv\", sep=\",\", header=0)"
   ]
  },
  {
   "cell_type": "code",
   "execution_count": null,
   "id": "8a00b7d5-1852-4875-97ab-eceb575fa7ac",
   "metadata": {},
   "outputs": [],
   "source": [
    "panel_df.loc[panel_df[\"Predicted Species\"] == 'S. haematobium', \"Library ID\"].to_csv(\"shae.panel.list\", sep=\",\", header=False, index=False)\n",
    "panel_df.loc[panel_df[\"Predicted Species\"] == 'S. bovis', \"Library ID\"].to_csv(\"sbov.panel.list\", sep=\",\", header=False, index=False)"
   ]
  },
  {
   "cell_type": "code",
   "execution_count": null,
   "id": "8e8c5489-3fdb-4033-bcfb-9e01fc5fbeca",
   "metadata": {},
   "outputs": [],
   "source": [
    "%%bash\n",
    "\n",
    "conda run -n popgen --live-stream \\\n",
    "    vcftools \\\n",
    "        --vcf ../split_data_vcf/panel.vcf \\\n",
    "        --weir-fst-pop shae.panel.list \\\n",
    "        --weir-fst-pop sbov.panel.list"
   ]
  },
  {
   "cell_type": "code",
   "execution_count": null,
   "id": "4490461a-4697-4fe6-ac3b-adbfc6af8fbd",
   "metadata": {},
   "outputs": [],
   "source": [
    "fst_df=pd.read_csv(\"out.weir.fst\", sep=\"\\t\", header=0)\n",
    "fst_df"
   ]
  },
  {
   "cell_type": "code",
   "execution_count": null,
   "id": "26bc6e16-100a-4032-b0e9-7096a6e217cf",
   "metadata": {},
   "outputs": [],
   "source": [
    "major_chroms= [f\"NC_067{x}.1\" for x in list(range(196, 203))]\n",
    "major_chroms"
   ]
  },
  {
   "cell_type": "code",
   "execution_count": null,
   "id": "b8484734-e274-47ef-a547-d9e1264783a2",
   "metadata": {},
   "outputs": [],
   "source": [
    "fst_df = fst_df.loc[((fst_df[\"WEIR_AND_COCKERHAM_FST\"]>0) & fst_df[\"CHROM\"].isin(major_chroms))].reset_index(drop=True)\n",
    "fst_df.to_csv(\"fst_df.csv\", sep=\",\", header=True, index=False)\n",
    "fst_df"
   ]
  },
  {
   "cell_type": "markdown",
   "id": "601881ca-2034-4969-be02-a7ebb88b1e49",
   "metadata": {
    "tags": []
   },
   "source": [
    "# PCA"
   ]
  },
  {
   "cell_type": "code",
   "execution_count": null,
   "id": "f204f741-3dd0-4888-a1d7-7ba2cb56bd1b",
   "metadata": {
    "tags": []
   },
   "outputs": [],
   "source": [
    "Path(f\"{results_dir}/pca\").mkdir(parents=True, exist_ok=True)\n",
    "os.chdir(f\"{results_dir}/pca\")"
   ]
  },
  {
   "cell_type": "code",
   "execution_count": null,
   "id": "07f4e233-4a66-4b96-be63-2e04990f6e93",
   "metadata": {},
   "outputs": [],
   "source": [
    "info_df=pd.read_csv(f\"{proj_dir}/data/platt_et_al_2025_stable1.csv\", sep=\",\", header=0)\n",
    "panel_df=pd.read_csv(f\"{results_dir}/split_data_vcf/panel.df.csv\", sep=\",\", header=0)\n",
    "panel_df"
   ]
  },
  {
   "cell_type": "code",
   "execution_count": null,
   "id": "e01c201c-da5c-40f9-9da9-f3fb93a6f080",
   "metadata": {},
   "outputs": [],
   "source": [
    "%%bash\n",
    "conda run -n popgen --cwd . --live-stream\\\n",
    "    plink2 \\\n",
    "        --threads 12 \\\n",
    "        --vcf ../split_data_vcf/panel.vcf \\\n",
    "        --pca 20 allele-wts \\\n",
    "        --double-id \\\n",
    "        --allow-extra-chr \\\n",
    "        --out pca"
   ]
  },
  {
   "cell_type": "code",
   "execution_count": null,
   "id": "092c50b9-67f2-4fd0-b19a-85451c76b4e3",
   "metadata": {
    "scrolled": true
   },
   "outputs": [],
   "source": [
    "# %%bash\n",
    "# conda run -n popgen --cwd . --live-stream\\\n",
    "#     plink2 \\\n",
    "#         --threads 12 \\\n",
    "#         --vcf ../split_data_vcf/panel.vcf \\\n",
    "#         --pca 20 allele-wts \\\n",
    "#         --double-id \\\n",
    "#         --allow-extra-chr \\\n",
    "#         --out pca"
   ]
  },
  {
   "cell_type": "code",
   "execution_count": null,
   "id": "d2945ae4-ea0a-4f30-b96b-beba7fba2cf6",
   "metadata": {
    "tags": []
   },
   "outputs": [],
   "source": [
    "#get eigen values and sample labels\n",
    "pca_df=pd.read_csv(\"pca.eigenvec\", sep=\"\\t\", header=0)\n",
    "pca_df=pca_df.drop(\"#FID\", axis=1)\n",
    "\n",
    "#merge the dataframes\n",
    "pca_df=pca_df.merge(panel_df, how='left', left_on=\"IID\", right_on='Library ID')\n",
    "\n",
    "#fix the country which contains some float NaNs\n",
    "pca_df[\"country\"] = pca_df[\"Country\"].astype(str)\n",
    "\n",
    "countries = sorted(pca_df[\"country\"].unique().astype(str))\n",
    "pca_df"
   ]
  },
  {
   "cell_type": "code",
   "execution_count": null,
   "id": "16093066-8be7-4447-92d4-5ce5b54b9fbd",
   "metadata": {},
   "outputs": [],
   "source": [
    "import matplotlib.pyplot as plt\n",
    "import matplotlib.patches as mpatches\n",
    "import yaml\n",
    "\n",
    "# Load the YAML configuration file\n",
    "with open(f\"{proj_dir}/code/plotting_config.yaml\", \"r\") as config_file:\n",
    "    config = yaml.safe_load(config_file)\n",
    "\n",
    "# Create a multipanel figure\n",
    "fig, axes = plt.subplots(1, 2, figsize=(12, 6))  # 1 row, 2 columns\n",
    "\n",
    "# Panel 1: PC1 vs PC2\n",
    "for index, row in pca_df.iterrows():\n",
    "    x = row[\"PC1\"]\n",
    "    y = row[\"PC2\"]\n",
    "    species = row[\"Predicted Species\"]\n",
    "    color = config[\"species\"][species][\"color\"]\n",
    "    \n",
    "    # Plot PC1 vs PC2\n",
    "    axes[0].scatter(x, y, color=color, edgecolor=\"black\", s=50, linewidths=0.5)\n",
    "\n",
    "axes[0].set_xlabel(\"PC1\")\n",
    "axes[0].set_ylabel(\"PC2\")\n",
    "axes[0].set_title(\"PC1 vs PC2\")\n",
    "\n",
    "\n",
    "# # Add the legend to the figure (shared across panels)\n",
    "# fig.legend(\n",
    "#     handles=species_legend, \n",
    "#     title=\"Species\", \n",
    "#     loc=\"center right\", \n",
    "#     bbox_to_anchor=(1.1, 0.5)\n",
    "# )\n",
    "\n",
    "# # Adjust layout to ensure everything fits\n",
    "# plt.tight_layout()\n",
    "\n",
    "# # Optional: Save the plot\n",
    "# # plt.savefig('pca.png', facecolor=\"white\", dpi=600, bbox_inches='tight')\n",
    "# # plt.savefig('pca.svg')\n",
    "\n",
    "# # Display the figure\n",
    "# plt.show()\n"
   ]
  },
  {
   "cell_type": "code",
   "execution_count": null,
   "id": "78b7cb78-f486-4ff1-8e55-d5b45e622aa4",
   "metadata": {},
   "outputs": [],
   "source": [
    "pca_df.loc[pca_df[\"PC2\"]<-0.2]"
   ]
  },
  {
   "cell_type": "code",
   "execution_count": null,
   "id": "746097be-6028-4786-af05-c2810ca3cabb",
   "metadata": {},
   "outputs": [],
   "source": [
    "info_df.loc[info_df[\"Country\"] == \"Uganda\"]"
   ]
  },
  {
   "cell_type": "markdown",
   "id": "fe785dcf-2b34-4083-8b69-432a68f9d9c8",
   "metadata": {},
   "source": [
    "# InfoCalc"
   ]
  },
  {
   "cell_type": "code",
   "execution_count": null,
   "id": "3c69be1a-8dad-4dd5-b719-9b84471a1f47",
   "metadata": {},
   "outputs": [],
   "source": []
  },
  {
   "cell_type": "code",
   "execution_count": null,
   "id": "a7f79b49-56cc-4758-89d0-4890e4003e8b",
   "metadata": {},
   "outputs": [],
   "source": []
  },
  {
   "cell_type": "code",
   "execution_count": null,
   "id": "f862df93-8ae7-4259-8796-d211bf2bdf06",
   "metadata": {},
   "outputs": [],
   "source": [
    "# VENN diagram/overlap of the 5 datasets"
   ]
  }
 ],
 "metadata": {
  "kernelspec": {
   "display_name": "popgen",
   "language": "python",
   "name": "popgen"
  },
  "language_info": {
   "codemirror_mode": {
    "name": "ipython",
    "version": 3
   },
   "file_extension": ".py",
   "mimetype": "text/x-python",
   "name": "python",
   "nbconvert_exporter": "python",
   "pygments_lexer": "ipython3",
   "version": "3.11.11"
  }
 },
 "nbformat": 4,
 "nbformat_minor": 5
}
